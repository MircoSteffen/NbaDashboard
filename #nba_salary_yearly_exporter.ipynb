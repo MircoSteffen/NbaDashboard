{
 "cells": [
  {
   "cell_type": "code",
   "execution_count": 3,
   "id": "e131476e",
   "metadata": {},
   "outputs": [
    {
     "name": "stdout",
     "output_type": "stream",
     "text": [
      "Lade Seite 1...\n",
      "Lade Seite 2...\n",
      "Lade Seite 3...\n",
      "Lade Seite 4...\n",
      "Lade Seite 5...\n",
      "Lade Seite 6...\n",
      "Lade Seite 7...\n",
      "Lade Seite 8...\n",
      "Lade Seite 9...\n",
      "Lade Seite 10...\n",
      "Lade Seite 11...\n",
      "Lade Seite 12...\n",
      "475 Spieler gespeichert in nba_salaries_2023_24.csv\n"
     ]
    }
   ],
   "source": [
    "import requests\n",
    "from bs4 import BeautifulSoup\n",
    "import pandas as pd\n",
    "\n",
    "base_url = \"https://www.espn.com/nba/salaries/_/year/2024/seasontype/3/page/{}\"\n",
    "all_rows = []\n",
    "\n",
    "for page in range(1, 30):  # Maximal 30 Seiten zur Sicherheit\n",
    "    url = base_url.format(page)\n",
    "    print(f\"Lade Seite {page}...\")\n",
    "    response = requests.get(url, headers={\"User-Agent\": \"Mozilla/5.0\"})\n",
    "    soup = BeautifulSoup(response.text, \"html.parser\")\n",
    "    table = soup.find(\"table\")\n",
    "\n",
    "    if not table:\n",
    "        break  # Keine Tabelle auf der Seite → Ende\n",
    "\n",
    "    rows = table.find_all(\"tr\")\n",
    "\n",
    "    for row in rows[1:]:  # Erste Zeile ist (meist) Header\n",
    "        cols = row.find_all(\"td\")\n",
    "        texts = [c.get_text(strip=True) for c in cols]\n",
    "\n",
    "        if len(texts) < 4:\n",
    "            continue  # z.B. leere Zeilen oder kaputte\n",
    "\n",
    "        # Skippe Kopfzeilen wie [\"RANK\", \"NAME\", \"TEAM\", \"SALARY\"]\n",
    "        if \"NAME\" in texts[1] or \"TEAM\" in texts[2] or \"SALARY\" in texts[3]:\n",
    "            continue\n",
    "\n",
    "        name = texts[1]\n",
    "        salary = texts[3]\n",
    "        all_rows.append([name, salary])\n",
    "\n",
    "    # Falls weniger als 40 Spieler auf der Seite sind, wahrscheinlich letzte Seite\n",
    "    if len(rows) < 40:\n",
    "        break\n",
    "\n",
    "# DataFrame und CSV\n",
    "df = pd.DataFrame(all_rows, columns=[\"Name\", \"Salary\"])\n",
    "df.to_csv(\"nba_salaries_2023_24.csv\", index=False)\n",
    "print(f\"{len(df)} Spieler gespeichert in nba_salaries_2023_24.csv\")\n"
   ]
  }
 ],
 "metadata": {
  "kernelspec": {
   "display_name": "base",
   "language": "python",
   "name": "python3"
  },
  "language_info": {
   "codemirror_mode": {
    "name": "ipython",
    "version": 3
   },
   "file_extension": ".py",
   "mimetype": "text/x-python",
   "name": "python",
   "nbconvert_exporter": "python",
   "pygments_lexer": "ipython3",
   "version": "3.12.3"
  }
 },
 "nbformat": 4,
 "nbformat_minor": 5
}
